{
 "cells": [
  {
   "cell_type": "code",
   "execution_count": 1,
   "id": "cc482e8b-56c7-480d-8b13-88b236172f34",
   "metadata": {},
   "outputs": [],
   "source": [
    "s={4,3,6,2,66,4}"
   ]
  },
  {
   "cell_type": "code",
   "execution_count": 2,
   "id": "7f25673f-d176-4824-b330-64b3d6f13af5",
   "metadata": {},
   "outputs": [
    {
     "name": "stdout",
     "output_type": "stream",
     "text": [
      "{2, 3, 4, 66, 6, 34}\n"
     ]
    }
   ],
   "source": [
    "s.add(34)\n",
    "print(s)"
   ]
  },
  {
   "cell_type": "code",
   "execution_count": 3,
   "id": "dd1718ed-1e9a-4553-8f56-dce24dd3c213",
   "metadata": {},
   "outputs": [
    {
     "data": {
      "text/plain": [
       "{2, 3, 4, 6, 34, 64, 66, 233}"
      ]
     },
     "execution_count": 3,
     "metadata": {},
     "output_type": "execute_result"
    }
   ],
   "source": [
    "s.update([4,64,233])\n",
    "s"
   ]
  },
  {
   "cell_type": "code",
   "execution_count": 8,
   "id": "88cdf3ba-0172-4e55-b586-fe2e5757eccf",
   "metadata": {},
   "outputs": [
    {
     "name": "stdout",
     "output_type": "stream",
     "text": [
      "{1, 2, 5, 6, 7, 8, 9}\n",
      "{8, 6, 7}\n",
      "{1, 5}\n",
      "{1, 2, 5, 9}\n"
     ]
    }
   ],
   "source": [
    "set1={1,5,6,7,8}\n",
    "set2={2,6,9,8,7}\n",
    "set1.union(set2)\n",
    "print(set1 | set2)\n",
    "print(set1 & set2)\n",
    "print(set1 - set2)\n",
    "print(set1 ^ set2)"
   ]
  },
  {
   "cell_type": "code",
   "execution_count": 5,
   "id": "31eace13-778e-46dc-ad15-a9ba6d8a19be",
   "metadata": {},
   "outputs": [
    {
     "data": {
      "text/plain": [
       "{1, 5, 6, 7, 8}"
      ]
     },
     "execution_count": 5,
     "metadata": {},
     "output_type": "execute_result"
    }
   ],
   "source": [
    "set1"
   ]
  },
  {
   "cell_type": "code",
   "execution_count": 6,
   "id": "51dd1f15-2ebb-4ccc-832b-2aed01b0e9b6",
   "metadata": {},
   "outputs": [
    {
     "data": {
      "text/plain": [
       "{2, 6, 7, 8, 9}"
      ]
     },
     "execution_count": 6,
     "metadata": {},
     "output_type": "execute_result"
    }
   ],
   "source": [
    "set2"
   ]
  },
  {
   "cell_type": "code",
   "execution_count": 7,
   "id": "99d8da09-574e-427a-9a2b-e081f3ca3387",
   "metadata": {},
   "outputs": [
    {
     "data": {
      "text/plain": [
       "{6, 7, 8}"
      ]
     },
     "execution_count": 7,
     "metadata": {},
     "output_type": "execute_result"
    }
   ],
   "source": [
    "set1.intersection(set2)"
   ]
  },
  {
   "cell_type": "code",
   "execution_count": null,
   "id": "eb4a467a-0d07-4383-b8ac-033a51c4c41e",
   "metadata": {},
   "outputs": [],
   "source": []
  }
 ],
 "metadata": {
  "kernelspec": {
   "display_name": "Python 3 (ipykernel)",
   "language": "python",
   "name": "python3"
  },
  "language_info": {
   "codemirror_mode": {
    "name": "ipython",
    "version": 3
   },
   "file_extension": ".py",
   "mimetype": "text/x-python",
   "name": "python",
   "nbconvert_exporter": "python",
   "pygments_lexer": "ipython3",
   "version": "3.13.5"
  }
 },
 "nbformat": 4,
 "nbformat_minor": 5
}

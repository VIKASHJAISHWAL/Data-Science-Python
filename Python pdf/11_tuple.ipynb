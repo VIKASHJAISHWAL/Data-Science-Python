{
 "cells": [
  {
   "cell_type": "code",
   "execution_count": 1,
   "id": "64b8e39b-eaf2-4ce4-8bf3-d98a84887227",
   "metadata": {},
   "outputs": [],
   "source": [
    "my_tuple = (1,2,3,4,5)"
   ]
  },
  {
   "cell_type": "code",
   "execution_count": 2,
   "id": "1708f042-87ad-49ef-ad65-019a31365ad5",
   "metadata": {},
   "outputs": [
    {
     "name": "stdout",
     "output_type": "stream",
     "text": [
      "2\n"
     ]
    }
   ],
   "source": [
    "print(my_tuple[1])"
   ]
  },
  {
   "cell_type": "code",
   "execution_count": 3,
   "id": "fbbf7540-b318-4742-8811-e9db432461a2",
   "metadata": {},
   "outputs": [
    {
     "name": "stdout",
     "output_type": "stream",
     "text": [
      "(2, 3)\n"
     ]
    }
   ],
   "source": [
    "print(my_tuple[1:3])"
   ]
  },
  {
   "cell_type": "code",
   "execution_count": 4,
   "id": "a56bd208-e472-41e6-a6d6-6f73e0fa0577",
   "metadata": {},
   "outputs": [],
   "source": [
    "persion=(\"Alice\",25,\"Engineer\")"
   ]
  },
  {
   "cell_type": "code",
   "execution_count": 5,
   "id": "88ee7ac6-371f-44cf-ac00-1287e17d1f47",
   "metadata": {},
   "outputs": [],
   "source": [
    "name,age,profession = persion"
   ]
  },
  {
   "cell_type": "code",
   "execution_count": 6,
   "id": "dd53b2e1-d991-4f13-a139-314e60f4ad51",
   "metadata": {},
   "outputs": [
    {
     "name": "stdout",
     "output_type": "stream",
     "text": [
      "Alice\n",
      "25\n",
      "Engineer\n"
     ]
    }
   ],
   "source": [
    "print(name)\n",
    "print(age)\n",
    "print(profession)"
   ]
  },
  {
   "cell_type": "code",
   "execution_count": null,
   "id": "913809de-1292-4ecb-ab07-a061377acf77",
   "metadata": {},
   "outputs": [],
   "source": []
  }
 ],
 "metadata": {
  "kernelspec": {
   "display_name": "Python 3 (ipykernel)",
   "language": "python",
   "name": "python3"
  },
  "language_info": {
   "codemirror_mode": {
    "name": "ipython",
    "version": 3
   },
   "file_extension": ".py",
   "mimetype": "text/x-python",
   "name": "python",
   "nbconvert_exporter": "python",
   "pygments_lexer": "ipython3",
   "version": "3.13.5"
  }
 },
 "nbformat": 4,
 "nbformat_minor": 5
}

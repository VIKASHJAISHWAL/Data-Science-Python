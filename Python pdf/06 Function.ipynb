{
 "cells": [
  {
   "cell_type": "code",
   "execution_count": 1,
   "id": "3b662991-856d-4902-ab08-c6a43aeb6fd9",
   "metadata": {},
   "outputs": [
    {
     "name": "stdout",
     "output_type": "stream",
     "text": [
      "10\n"
     ]
    }
   ],
   "source": [
    "def fun(a,b):\n",
    "    return a+b\n",
    "print(fun(4,6))    "
   ]
  },
  {
   "cell_type": "code",
   "execution_count": 2,
   "id": "8942a4e6-3c72-459e-a0d4-bf06a38cc69c",
   "metadata": {},
   "outputs": [
    {
     "name": "stdout",
     "output_type": "stream",
     "text": [
      "10\n",
      "14\n"
     ]
    }
   ],
   "source": [
    "def fun(a,b=10):\n",
    "    return a+b\n",
    "print(fun(4,6))\n",
    "print(fun(4))"
   ]
  },
  {
   "cell_type": "code",
   "execution_count": 3,
   "id": "7d23fecd-3c6b-4f7c-92c6-0df2a62e9e79",
   "metadata": {},
   "outputs": [
    {
     "name": "stdout",
     "output_type": "stream",
     "text": [
      "5.0\n"
     ]
    }
   ],
   "source": [
    "def avg(a,b):\n",
    "    return (a+b)/2\n",
    "print(avg(4,6))    "
   ]
  },
  {
   "cell_type": "code",
   "execution_count": null,
   "id": "e1466cf8-cda7-4848-9008-1ae11f404373",
   "metadata": {},
   "outputs": [],
   "source": []
  }
 ],
 "metadata": {
  "kernelspec": {
   "display_name": "Python 3 (ipykernel)",
   "language": "python",
   "name": "python3"
  },
  "language_info": {
   "codemirror_mode": {
    "name": "ipython",
    "version": 3
   },
   "file_extension": ".py",
   "mimetype": "text/x-python",
   "name": "python",
   "nbconvert_exporter": "python",
   "pygments_lexer": "ipython3",
   "version": "3.13.5"
  }
 },
 "nbformat": 4,
 "nbformat_minor": 5
}

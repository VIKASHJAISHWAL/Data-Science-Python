{
 "cells": [
  {
   "cell_type": "code",
   "execution_count": 1,
   "id": "d307cb25-94a6-4c83-9ab6-868d73f3171d",
   "metadata": {},
   "outputs": [],
   "source": [
    "name=\"vikash\""
   ]
  },
  {
   "cell_type": "code",
   "execution_count": 2,
   "id": "b5d6c06d-d229-4bdc-8c78-a70a5aeec46a",
   "metadata": {},
   "outputs": [
    {
     "data": {
      "text/plain": [
       "'Vikash'"
      ]
     },
     "execution_count": 2,
     "metadata": {},
     "output_type": "execute_result"
    }
   ],
   "source": [
    "name.capitalize()"
   ]
  },
  {
   "cell_type": "code",
   "execution_count": 3,
   "id": "5ad0536a-1017-46b1-926a-9660221e316c",
   "metadata": {},
   "outputs": [
    {
     "data": {
      "text/plain": [
       "'vikash'"
      ]
     },
     "execution_count": 3,
     "metadata": {},
     "output_type": "execute_result"
    }
   ],
   "source": [
    "name.casefold()"
   ]
  },
  {
   "cell_type": "code",
   "execution_count": 6,
   "id": "4cb2c1db-2ac1-4065-b595-dd825ffd75bd",
   "metadata": {},
   "outputs": [
    {
     "data": {
      "text/plain": [
       "False"
      ]
     },
     "execution_count": 6,
     "metadata": {},
     "output_type": "execute_result"
    }
   ],
   "source": [
    "name.isdigit()"
   ]
  },
  {
   "cell_type": "code",
   "execution_count": 9,
   "id": "deb07c35-5994-431a-88b4-2ea3cb2a5a2c",
   "metadata": {},
   "outputs": [
    {
     "data": {
      "text/plain": [
       "1"
      ]
     },
     "execution_count": 9,
     "metadata": {},
     "output_type": "execute_result"
    }
   ],
   "source": [
    "name.count(\"k\")"
   ]
  },
  {
   "cell_type": "code",
   "execution_count": 10,
   "id": "0986e980-bf61-4a97-95fe-7ea00233c7e2",
   "metadata": {},
   "outputs": [
    {
     "name": "stdout",
     "output_type": "stream",
     "text": [
      "\f",
      "\n"
     ]
    }
   ],
   "source": [
    "clear\n"
   ]
  },
  {
   "cell_type": "code",
   "execution_count": 11,
   "id": "7e7d071f-fa4e-41a0-b17a-c9a3d316f0e5",
   "metadata": {},
   "outputs": [
    {
     "data": {
      "text/plain": [
       "'vika'"
      ]
     },
     "execution_count": 11,
     "metadata": {},
     "output_type": "execute_result"
    }
   ],
   "source": [
    "name[0:4]"
   ]
  },
  {
   "cell_type": "code",
   "execution_count": 12,
   "id": "b2c97bed-8b01-4d75-82d2-9c375a98f0b5",
   "metadata": {},
   "outputs": [
    {
     "data": {
      "text/plain": [
       "'ikas'"
      ]
     },
     "execution_count": 12,
     "metadata": {},
     "output_type": "execute_result"
    }
   ],
   "source": [
    "name[1:-1]"
   ]
  },
  {
   "cell_type": "code",
   "execution_count": 13,
   "id": "7153a877-58b1-40ab-8f9d-c700db23470d",
   "metadata": {},
   "outputs": [
    {
     "data": {
      "text/plain": [
       "'ikas'"
      ]
     },
     "execution_count": 13,
     "metadata": {},
     "output_type": "execute_result"
    }
   ],
   "source": [
    "name[1:5]"
   ]
  },
  {
   "cell_type": "code",
   "execution_count": null,
   "id": "e048711a-5183-4bc3-8405-576ff2126cb4",
   "metadata": {},
   "outputs": [],
   "source": []
  }
 ],
 "metadata": {
  "kernelspec": {
   "display_name": "Python 3 (ipykernel)",
   "language": "python",
   "name": "python3"
  },
  "language_info": {
   "codemirror_mode": {
    "name": "ipython",
    "version": 3
   },
   "file_extension": ".py",
   "mimetype": "text/x-python",
   "name": "python",
   "nbconvert_exporter": "python",
   "pygments_lexer": "ipython3",
   "version": "3.13.5"
  }
 },
 "nbformat": 4,
 "nbformat_minor": 5
}

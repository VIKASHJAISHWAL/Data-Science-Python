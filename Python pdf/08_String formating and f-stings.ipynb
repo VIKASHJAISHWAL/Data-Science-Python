{
 "cells": [
  {
   "cell_type": "code",
   "execution_count": 4,
   "id": "23c570ae-fc32-4bda-b355-25310843d7f2",
   "metadata": {},
   "outputs": [],
   "source": [
    "# String formating and f-strings"
   ]
  },
  {
   "cell_type": "code",
   "execution_count": 3,
   "id": "8acf3074-d850-4398-bb80-7662bd2aa717",
   "metadata": {},
   "outputs": [
    {
     "name": "stdout",
     "output_type": "stream",
     "text": [
      "My anme is Alice and I am 25 years old.\n"
     ]
    }
   ],
   "source": [
    "name = \"Alice\"\n",
    "age = 25\n",
    "print(\"My anme is {} and I am {} years old.\".format(name,age))"
   ]
  },
  {
   "cell_type": "code",
   "execution_count": 5,
   "id": "deb715ae-7250-40bd-b046-9dae93ea557d",
   "metadata": {},
   "outputs": [],
   "source": [
    "# Positional and keyword argumants"
   ]
  },
  {
   "cell_type": "code",
   "execution_count": 7,
   "id": "2ad4debe-a0de-41ac-b119-86b46e23862b",
   "metadata": {},
   "outputs": [
    {
     "name": "stdout",
     "output_type": "stream",
     "text": [
      "Alice is learning python \n"
     ]
    }
   ],
   "source": [
    "print(\"{0} is learning {1} \".format(\"Alice\",\"python\"))"
   ]
  },
  {
   "cell_type": "raw",
   "id": "2dc5fa38-df68-4afc-a9c3-f8d1d7227154",
   "metadata": {},
   "source": [
    "print(\"{name} is learning {language} \".format(name=\"Alice\",language=\"python\"))"
   ]
  },
  {
   "cell_type": "code",
   "execution_count": 8,
   "id": "c1845bc5-e479-4f9f-95ec-882eba1f4889",
   "metadata": {},
   "outputs": [],
   "source": [
    "# using f-strings"
   ]
  },
  {
   "cell_type": "code",
   "execution_count": 9,
   "id": "eb3dd95a-325e-43f7-bab0-b37570f33eb5",
   "metadata": {},
   "outputs": [
    {
     "name": "stdout",
     "output_type": "stream",
     "text": [
      "My name is Alice and I am 25 year old\n"
     ]
    }
   ],
   "source": [
    "name=\"Alice\"\n",
    "age = 25\n",
    "print(f\"My name is {name} and I am {age} year old\")"
   ]
  },
  {
   "cell_type": "code",
   "execution_count": 10,
   "id": "9db4e6a1-f68c-4937-8d0a-ac3d706f74c5",
   "metadata": {},
   "outputs": [],
   "source": [
    "# Expression Inside f-strings"
   ]
  },
  {
   "cell_type": "code",
   "execution_count": 12,
   "id": "6efd8c9c-fe6f-4374-87a2-7546dc383e80",
   "metadata": {},
   "outputs": [
    {
     "name": "stdout",
     "output_type": "stream",
     "text": [
      " Sum of 5 and 10 is 15\n"
     ]
    }
   ],
   "source": [
    "a=5\n",
    "b=10\n",
    "print(f\" Sum of {a} and {b} is {a+b}\")"
   ]
  },
  {
   "cell_type": "code",
   "execution_count": 13,
   "id": "b9c730c5-bd4f-412a-b0a6-8e616e04f21a",
   "metadata": {},
   "outputs": [],
   "source": [
    "# formating numbers"
   ]
  },
  {
   "cell_type": "code",
   "execution_count": 14,
   "id": "53398b6a-4ca2-46bb-848b-09d79a5f2e7c",
   "metadata": {},
   "outputs": [
    {
     "name": "stdout",
     "output_type": "stream",
     "text": [
      "pi is rounded to 2  decimal places:3.14\n"
     ]
    }
   ],
   "source": [
    "pi=3.14159\n",
    "print(f\"pi is rounded to 2  decimal places:{pi:.2f}\")"
   ]
  },
  {
   "cell_type": "code",
   "execution_count": 15,
   "id": "282ce4df-373e-43c4-ad42-ca3efcb01cc1",
   "metadata": {},
   "outputs": [],
   "source": [
    "# padding and alignment"
   ]
  },
  {
   "cell_type": "code",
   "execution_count": 18,
   "id": "f4e7a56f-738a-45a3-b9ee-61bf04635a1a",
   "metadata": {},
   "outputs": [
    {
     "name": "stdout",
     "output_type": "stream",
     "text": [
      "python    \n",
      "    python\n",
      "  python  \n"
     ]
    }
   ],
   "source": [
    "print(f\"{'python':<10}\")\n",
    "print(f\"{'python':>10}\")\n",
    "print(f\"{'python':^10}\")\n"
   ]
  },
  {
   "cell_type": "code",
   "execution_count": null,
   "id": "9c479a34-7582-47cf-a911-8680482d3b2d",
   "metadata": {},
   "outputs": [],
   "source": []
  }
 ],
 "metadata": {
  "kernelspec": {
   "display_name": "Python 3 (ipykernel)",
   "language": "python",
   "name": "python3"
  },
  "language_info": {
   "codemirror_mode": {
    "name": "ipython",
    "version": 3
   },
   "file_extension": ".py",
   "mimetype": "text/x-python",
   "name": "python",
   "nbconvert_exporter": "python",
   "pygments_lexer": "ipython3",
   "version": "3.13.5"
  }
 },
 "nbformat": 4,
 "nbformat_minor": 5
}

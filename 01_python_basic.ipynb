{
 "cells": [
  {
   "cell_type": "code",
   "execution_count": 2,
   "id": "526d467f-d771-4871-8845-3eefab8278ab",
   "metadata": {},
   "outputs": [],
   "source": [
    "a=5"
   ]
  },
  {
   "cell_type": "code",
   "execution_count": 3,
   "id": "20371e24-d188-4ee1-98b3-15f34a4d3cf0",
   "metadata": {},
   "outputs": [],
   "source": [
    "b=10"
   ]
  },
  {
   "cell_type": "code",
   "execution_count": 4,
   "id": "3545e12d-87de-42bc-b1eb-288ad62eb712",
   "metadata": {},
   "outputs": [
    {
     "data": {
      "text/plain": [
       "15"
      ]
     },
     "execution_count": 4,
     "metadata": {},
     "output_type": "execute_result"
    }
   ],
   "source": [
    "a+b"
   ]
  },
  {
   "cell_type": "code",
   "execution_count": 5,
   "id": "f0502cfe-8285-49d3-a013-113331676174",
   "metadata": {},
   "outputs": [
    {
     "name": "stdout",
     "output_type": "stream",
     "text": [
      "hello world\n"
     ]
    }
   ],
   "source": [
    "print(\"hello world\")#this will be print hello world on the screen"
   ]
  },
  {
   "cell_type": "code",
   "execution_count": 6,
   "id": "3e145b71-8fde-4c86-b699-8f1586f69580",
   "metadata": {},
   "outputs": [
    {
     "name": "stdout",
     "output_type": "stream",
     "text": [
      "<class 'int'>\n"
     ]
    }
   ],
   "source": [
    "print(type(a))\n"
   ]
  },
  {
   "cell_type": "code",
   "execution_count": 7,
   "id": "ee3b7e83-fb6c-4d52-abb8-12797d637c98",
   "metadata": {},
   "outputs": [],
   "source": [
    "c=\"vikash jaishwal\""
   ]
  },
  {
   "cell_type": "code",
   "execution_count": 8,
   "id": "70b816f8-2515-4059-b442-d3f0fe7d8c33",
   "metadata": {},
   "outputs": [
    {
     "name": "stdout",
     "output_type": "stream",
     "text": [
      "<class 'str'>\n"
     ]
    }
   ],
   "source": [
    "print(type(c))"
   ]
  },
  {
   "cell_type": "code",
   "execution_count": 9,
   "id": "38bb0f8f-59aa-4cd7-bdc5-fccfd34fd06a",
   "metadata": {},
   "outputs": [],
   "source": [
    "a=\"1254\""
   ]
  },
  {
   "cell_type": "code",
   "execution_count": 10,
   "id": "53a03e8f-3c9c-4ea1-81d0-b726a48f91f2",
   "metadata": {},
   "outputs": [],
   "source": [
    "b=\"5632\"\n"
   ]
  },
  {
   "cell_type": "code",
   "execution_count": 11,
   "id": "0c703e7a-734e-460d-8824-b87b0ea37dd1",
   "metadata": {},
   "outputs": [
    {
     "name": "stdout",
     "output_type": "stream",
     "text": [
      "12545632\n"
     ]
    }
   ],
   "source": [
    "print(a+b)"
   ]
  },
  {
   "cell_type": "code",
   "execution_count": 12,
   "id": "08d69c6e-d641-4424-bfcc-8a88c1fe9fea",
   "metadata": {},
   "outputs": [
    {
     "name": "stdout",
     "output_type": "stream",
     "text": [
      "6886\n"
     ]
    }
   ],
   "source": [
    "print(int(a)+int(b))"
   ]
  },
  {
   "cell_type": "code",
   "execution_count": null,
   "id": "62d2c1b5-1573-4b56-a44c-65fa0e6223b3",
   "metadata": {},
   "outputs": [],
   "source": []
  }
 ],
 "metadata": {
  "kernelspec": {
   "display_name": "Python 3 (ipykernel)",
   "language": "python",
   "name": "python3"
  },
  "language_info": {
   "codemirror_mode": {
    "name": "ipython",
    "version": 3
   },
   "file_extension": ".py",
   "mimetype": "text/x-python",
   "name": "python",
   "nbconvert_exporter": "python",
   "pygments_lexer": "ipython3",
   "version": "3.13.5"
  }
 },
 "nbformat": 4,
 "nbformat_minor": 5
}

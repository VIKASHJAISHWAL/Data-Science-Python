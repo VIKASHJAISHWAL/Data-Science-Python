{
 "cells": [
  {
   "cell_type": "code",
   "execution_count": 9,
   "id": "fc71b1a5-30df-4580-984e-cd85bab20560",
   "metadata": {},
   "outputs": [],
   "source": [
    "a=41"
   ]
  },
  {
   "cell_type": "code",
   "execution_count": 10,
   "id": "eaa9c22b-2a2a-4339-b4d9-b76806594d65",
   "metadata": {},
   "outputs": [
    {
     "name": "stdout",
     "output_type": "stream",
     "text": [
      "Smaller\n"
     ]
    }
   ],
   "source": [
    "if (a>53):\n",
    "    print(\"Greater\")\n",
    "else:\n",
    "    print(\"Smaller\")\n",
    "    \n",
    "    "
   ]
  },
  {
   "cell_type": "code",
   "execution_count": 11,
   "id": "535cae62-4ec9-4fcc-8d8f-9132890c251e",
   "metadata": {},
   "outputs": [
    {
     "name": "stdout",
     "output_type": "stream",
     "text": [
      "Greater than 40\n"
     ]
    }
   ],
   "source": [
    "if(a>53):\n",
    "    print(\"Greater\")\n",
    "elif(a>40):\n",
    "    print(\"Greater than 40\")\n",
    "elif(a>50):\n",
    "    print(\"Greater than 50\")\n",
    "else:\n",
    "    print(\"!Done\")\n",
    "    \n",
    "    \n",
    "    \n",
    "    "
   ]
  },
  {
   "cell_type": "code",
   "execution_count": null,
   "id": "5b9bc475-d00c-4fd9-a147-1c7299a6c7d9",
   "metadata": {},
   "outputs": [],
   "source": []
  }
 ],
 "metadata": {
  "kernelspec": {
   "display_name": "Python 3 (ipykernel)",
   "language": "python",
   "name": "python3"
  },
  "language_info": {
   "codemirror_mode": {
    "name": "ipython",
    "version": 3
   },
   "file_extension": ".py",
   "mimetype": "text/x-python",
   "name": "python",
   "nbconvert_exporter": "python",
   "pygments_lexer": "ipython3",
   "version": "3.13.5"
  }
 },
 "nbformat": 4,
 "nbformat_minor": 5
}

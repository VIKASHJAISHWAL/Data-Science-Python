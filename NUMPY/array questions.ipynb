{
 "cells": [
  {
   "cell_type": "code",
   "execution_count": 1,
   "id": "8676ae43-9f5c-489f-ae2c-a579d2e4719b",
   "metadata": {},
   "outputs": [],
   "source": [
    "# question 1\n",
    "# Create a 3x3 array filled with random numbers and print its shape"
   ]
  },
  {
   "cell_type": "code",
   "execution_count": 3,
   "id": "fa5f03a5-232f-4410-9f89-ef472985c918",
   "metadata": {},
   "outputs": [],
   "source": [
    "import numpy as np\n",
    "arr=np.array([[4,5,7],[1,6,9],[2,3,8]])"
   ]
  },
  {
   "cell_type": "code",
   "execution_count": 4,
   "id": "13f08ef2-7307-4e73-acb9-ec07939e2184",
   "metadata": {},
   "outputs": [
    {
     "data": {
      "text/plain": [
       "(3, 3)"
      ]
     },
     "execution_count": 4,
     "metadata": {},
     "output_type": "execute_result"
    }
   ],
   "source": [
    "arr.shape"
   ]
  },
  {
   "cell_type": "code",
   "execution_count": 6,
   "id": "aedfb531-e5bd-4b93-9dcb-7e589d780d45",
   "metadata": {},
   "outputs": [],
   "source": [
    "# Questyion 2\n",
    "# Convert an array of floate [1.1,2.2,3.3] into integer"
   ]
  },
  {
   "cell_type": "code",
   "execution_count": 7,
   "id": "9636ecae-b6f2-4852-bb73-8c4701b73ea0",
   "metadata": {},
   "outputs": [],
   "source": [
    "arr=np.array([1.1,2.2,3.3])"
   ]
  },
  {
   "cell_type": "code",
   "execution_count": 8,
   "id": "a7474bee-8610-4078-b02a-acf5b57b4a22",
   "metadata": {},
   "outputs": [],
   "source": [
    "arr_int=arr.astype(int)"
   ]
  },
  {
   "cell_type": "code",
   "execution_count": 9,
   "id": "a273cd11-bb02-49ff-8371-11e7d2f73a1c",
   "metadata": {},
   "outputs": [
    {
     "name": "stdout",
     "output_type": "stream",
     "text": [
      "[1 2 3]\n"
     ]
    }
   ],
   "source": [
    "print(arr_int)"
   ]
  },
  {
   "cell_type": "code",
   "execution_count": 10,
   "id": "105455c2-81b4-4d2f-9602-27fcba7788f9",
   "metadata": {},
   "outputs": [],
   "source": [
    "# Question 3\n",
    "# Use fancy indexing to extracting even number from [1,2,3,4,5,6]"
   ]
  },
  {
   "cell_type": "code",
   "execution_count": 11,
   "id": "96509161-3a23-4b47-85e0-b6bc4b7886ab",
   "metadata": {},
   "outputs": [],
   "source": [
    "arr=np.array([1,2,3,4,5,6])"
   ]
  },
  {
   "cell_type": "code",
   "execution_count": 15,
   "id": "5e9c89cc-42e2-4f73-81c9-89607ce72cac",
   "metadata": {},
   "outputs": [
    {
     "name": "stdout",
     "output_type": "stream",
     "text": [
      "[2 4 6]\n"
     ]
    }
   ],
   "source": [
    "even_no=[1,3,5]\n",
    "print(arr[even_no])"
   ]
  },
  {
   "cell_type": "code",
   "execution_count": 17,
   "id": "8152d3a7-a535-43f8-89f9-9fb94bfdaff8",
   "metadata": {},
   "outputs": [],
   "source": [
    "# Question 4\n",
    "# Reshape a 1D array of size 9 into a 3x3 matrix"
   ]
  },
  {
   "cell_type": "code",
   "execution_count": 18,
   "id": "7cb48d23-560a-4b4f-aa09-ccc1f4ec29e8",
   "metadata": {},
   "outputs": [],
   "source": [
    "arr=np.array([1,2,3,4,5,6,7,8,9])"
   ]
  },
  {
   "cell_type": "code",
   "execution_count": 19,
   "id": "2470074d-34e1-4cca-bda9-1a2717cd0e8b",
   "metadata": {},
   "outputs": [],
   "source": [
    "reshaped=arr.reshape(3,3)"
   ]
  },
  {
   "cell_type": "code",
   "execution_count": 20,
   "id": "0b1be02e-ab85-47af-b6e6-b2a8d4ef99a2",
   "metadata": {},
   "outputs": [
    {
     "name": "stdout",
     "output_type": "stream",
     "text": [
      "[[1 2 3]\n",
      " [4 5 6]\n",
      " [7 8 9]]\n"
     ]
    }
   ],
   "source": [
    "print(reshaped)"
   ]
  },
  {
   "cell_type": "code",
   "execution_count": 21,
   "id": "9475c503-5fbd-4742-b5a8-b630b08d5aa0",
   "metadata": {},
   "outputs": [],
   "source": [
    "# Question 5\n",
    "# Use boolean masking to filter number greater than 50 in an array"
   ]
  },
  {
   "cell_type": "code",
   "execution_count": 22,
   "id": "a35fed63-60d5-47af-b45f-76bf31d74f5b",
   "metadata": {},
   "outputs": [],
   "source": [
    "arr=np.array([1,50,40,32,2,3,60,90,70,80,5])\n"
   ]
  },
  {
   "cell_type": "code",
   "execution_count": 23,
   "id": "75f68235-171a-4c89-8478-0ad10ed67252",
   "metadata": {},
   "outputs": [
    {
     "name": "stdout",
     "output_type": "stream",
     "text": [
      "[60 90 70 80]\n"
     ]
    }
   ],
   "source": [
    "greater_50=arr>50\n",
    "print(arr[greater_50])"
   ]
  },
  {
   "cell_type": "code",
   "execution_count": null,
   "id": "90ec6da1-90b1-4471-8286-73ee7ecdffad",
   "metadata": {},
   "outputs": [],
   "source": []
  }
 ],
 "metadata": {
  "kernelspec": {
   "display_name": "Python 3 (ipykernel)",
   "language": "python",
   "name": "python3"
  },
  "language_info": {
   "codemirror_mode": {
    "name": "ipython",
    "version": 3
   },
   "file_extension": ".py",
   "mimetype": "text/x-python",
   "name": "python",
   "nbconvert_exporter": "python",
   "pygments_lexer": "ipython3",
   "version": "3.13.5"
  }
 },
 "nbformat": 4,
 "nbformat_minor": 5
}

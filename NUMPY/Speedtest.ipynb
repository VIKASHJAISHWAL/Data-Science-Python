{
 "cells": [
  {
   "cell_type": "code",
   "execution_count": 3,
   "id": "9050de02-5b99-4110-82e5-235771ab8e74",
   "metadata": {},
   "outputs": [],
   "source": [
    "import numpy as np\n",
    "import time"
   ]
  },
  {
   "cell_type": "code",
   "execution_count": 4,
   "id": "82807b0d-5600-471e-ac78-03be2f954389",
   "metadata": {},
   "outputs": [],
   "source": [
    "# l1=[1,2,3,4]"
   ]
  },
  {
   "cell_type": "code",
   "execution_count": 5,
   "id": "9f1940d6-fb74-49c2-91cc-1f9878e77a61",
   "metadata": {},
   "outputs": [],
   "source": [
    "# l2=[4,5,6,7]\n"
   ]
  },
  {
   "cell_type": "code",
   "execution_count": 6,
   "id": "bcce7e31-9770-4c27-b2e1-5c9a61fde23e",
   "metadata": {},
   "outputs": [
    {
     "data": {
      "text/plain": [
       "[(1, 4), (2, 5), (3, 6), (4, 7)]"
      ]
     },
     "execution_count": 6,
     "metadata": {},
     "output_type": "execute_result"
    }
   ],
   "source": [
    "# list(zip(l1,l2))"
   ]
  },
  {
   "cell_type": "code",
   "execution_count": 7,
   "id": "58153716-c2c8-416f-9f95-4e35057a4adf",
   "metadata": {},
   "outputs": [],
   "source": [
    "size=1_000_000"
   ]
  },
  {
   "cell_type": "code",
   "execution_count": 8,
   "id": "f2e1e08e-603f-4b7e-923d-d97eecaee1e2",
   "metadata": {},
   "outputs": [],
   "source": [
    "l1=list(range(size))"
   ]
  },
  {
   "cell_type": "code",
   "execution_count": 9,
   "id": "a1d7187f-e3df-4f50-9de1-865c5bd0705b",
   "metadata": {},
   "outputs": [],
   "source": [
    "l2=list(range(size))"
   ]
  },
  {
   "cell_type": "code",
   "execution_count": 10,
   "id": "3452da0b-0619-4ec4-a771-2157ee27c127",
   "metadata": {},
   "outputs": [
    {
     "name": "stdout",
     "output_type": "stream",
     "text": [
      "Numpy arrary adition time 0.16567444801330566\n"
     ]
    }
   ],
   "source": [
    "start=time.time()\n",
    "result=[x+y for x,y in zip(l1,l2)]\n",
    "end=time.time()\n",
    "print(\"Numpy arrary adition time\",end-start)"
   ]
  },
  {
   "cell_type": "code",
   "execution_count": null,
   "id": "a23439ac-944a-47b1-a4ae-befad6c75fc8",
   "metadata": {},
   "outputs": [],
   "source": []
  }
 ],
 "metadata": {
  "kernelspec": {
   "display_name": "Python 3 (ipykernel)",
   "language": "python",
   "name": "python3"
  },
  "language_info": {
   "codemirror_mode": {
    "name": "ipython",
    "version": 3
   },
   "file_extension": ".py",
   "mimetype": "text/x-python",
   "name": "python",
   "nbconvert_exporter": "python",
   "pygments_lexer": "ipython3",
   "version": "3.13.5"
  }
 },
 "nbformat": 4,
 "nbformat_minor": 5
}

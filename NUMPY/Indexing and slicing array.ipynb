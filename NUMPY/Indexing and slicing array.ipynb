{
 "cells": [
  {
   "cell_type": "code",
   "execution_count": 1,
   "id": "dd954fe6-ab2d-4f27-9a29-857ca2708452",
   "metadata": {},
   "outputs": [],
   "source": [
    "import numpy as np"
   ]
  },
  {
   "cell_type": "code",
   "execution_count": 2,
   "id": "7000e477-4f97-4bc8-a388-b1310cb3e627",
   "metadata": {},
   "outputs": [],
   "source": [
    "arr=np.array([[1,2,3],[4,5,6],[7,8,9],[10,11,12]])"
   ]
  },
  {
   "cell_type": "code",
   "execution_count": 3,
   "id": "5512f315-91bf-4c67-bcdb-2dbeac87433a",
   "metadata": {},
   "outputs": [
    {
     "name": "stdout",
     "output_type": "stream",
     "text": [
      "[[ 1  2  3]\n",
      " [ 4  5  6]\n",
      " [ 7  8  9]\n",
      " [10 11 12]]\n"
     ]
    }
   ],
   "source": [
    "print(arr)"
   ]
  },
  {
   "cell_type": "code",
   "execution_count": 4,
   "id": "8e54fe9b-55fb-41a8-8ac1-ea8789b5421c",
   "metadata": {},
   "outputs": [],
   "source": [
    "# convert 2D->1D array"
   ]
  },
  {
   "cell_type": "code",
   "execution_count": 5,
   "id": "b29dc415-a6b0-453d-8a39-a2dd3b461fa4",
   "metadata": {},
   "outputs": [],
   "source": [
    "flate=arr.flatten()"
   ]
  },
  {
   "cell_type": "code",
   "execution_count": 6,
   "id": "7776f5db-bb4b-4a9f-a233-75ba0a17f9bd",
   "metadata": {},
   "outputs": [
    {
     "name": "stdout",
     "output_type": "stream",
     "text": [
      "[ 1  2  3  4  5  6  7  8  9 10 11 12]\n"
     ]
    }
   ],
   "source": [
    "print(flate)"
   ]
  },
  {
   "cell_type": "code",
   "execution_count": 7,
   "id": "a6cf8ae4-12de-4e2c-bf01-c046680e4b89",
   "metadata": {},
   "outputs": [
    {
     "data": {
      "text/plain": [
       "np.int64(1)"
      ]
     },
     "execution_count": 7,
     "metadata": {},
     "output_type": "execute_result"
    }
   ],
   "source": [
    "flate[0]"
   ]
  },
  {
   "cell_type": "code",
   "execution_count": 8,
   "id": "49560141-0526-44b9-b4a0-f33cf6d2f1e5",
   "metadata": {},
   "outputs": [
    {
     "data": {
      "text/plain": [
       "np.int64(4)"
      ]
     },
     "execution_count": 8,
     "metadata": {},
     "output_type": "execute_result"
    }
   ],
   "source": [
    "flate[3]"
   ]
  },
  {
   "cell_type": "code",
   "execution_count": 9,
   "id": "17bff135-a21f-4312-b752-6129dd6af6ea",
   "metadata": {},
   "outputs": [
    {
     "data": {
      "text/plain": [
       "array([4, 5, 6])"
      ]
     },
     "execution_count": 9,
     "metadata": {},
     "output_type": "execute_result"
    }
   ],
   "source": [
    "flate[3:6]"
   ]
  },
  {
   "cell_type": "code",
   "execution_count": 10,
   "id": "74a8feee-7d59-4f82-9e85-f74a50741d4f",
   "metadata": {},
   "outputs": [
    {
     "data": {
      "text/plain": [
       "array([1, 2, 3, 4, 5])"
      ]
     },
     "execution_count": 10,
     "metadata": {},
     "output_type": "execute_result"
    }
   ],
   "source": [
    "flate[:5]"
   ]
  },
  {
   "cell_type": "code",
   "execution_count": 11,
   "id": "e696b4a1-eab9-4a23-96a1-4f3e28a79036",
   "metadata": {},
   "outputs": [
    {
     "data": {
      "text/plain": [
       "array([ 4,  5,  6,  7,  8,  9, 10, 11, 12])"
      ]
     },
     "execution_count": 11,
     "metadata": {},
     "output_type": "execute_result"
    }
   ],
   "source": [
    "flate[3:]"
   ]
  },
  {
   "cell_type": "code",
   "execution_count": 12,
   "id": "f46a187a-775c-419d-98ba-3fa168b2b09e",
   "metadata": {},
   "outputs": [],
   "source": [
    "# Slicing(Extract part of an array)"
   ]
  },
  {
   "cell_type": "code",
   "execution_count": 13,
   "id": "b8ec6d42-e8f2-4ff3-a204-7dd85bb2b4f3",
   "metadata": {},
   "outputs": [],
   "source": [
    "arr=np.array([10,20,30,40,50])"
   ]
  },
  {
   "cell_type": "code",
   "execution_count": 14,
   "id": "acd2016f-ff8d-49fd-9406-549ac65c1e3f",
   "metadata": {},
   "outputs": [
    {
     "name": "stdout",
     "output_type": "stream",
     "text": [
      "[20 30 40 50]\n"
     ]
    }
   ],
   "source": [
    "print(arr[1:6])"
   ]
  },
  {
   "cell_type": "code",
   "execution_count": 15,
   "id": "ef294fac-ea24-48cf-b775-edb4a558011a",
   "metadata": {},
   "outputs": [
    {
     "name": "stdout",
     "output_type": "stream",
     "text": [
      "[10 20 30 40 50]\n"
     ]
    }
   ],
   "source": [
    "print(arr[:6])"
   ]
  },
  {
   "cell_type": "code",
   "execution_count": 17,
   "id": "80eb602e-77ae-4461-ba1a-b10675168112",
   "metadata": {},
   "outputs": [
    {
     "name": "stdout",
     "output_type": "stream",
     "text": [
      "[10 30 50]\n"
     ]
    }
   ],
   "source": [
    "print(arr[: :2])#skip by 2"
   ]
  },
  {
   "cell_type": "code",
   "execution_count": 18,
   "id": "65247e2f-577c-4afe-8e14-253b19c17249",
   "metadata": {},
   "outputs": [],
   "source": [
    "# Slicing return a view not a copy changes affect the original array"
   ]
  },
  {
   "cell_type": "code",
   "execution_count": 20,
   "id": "2e5d4286-e046-4a82-92e7-856b64ca45df",
   "metadata": {},
   "outputs": [],
   "source": [
    "b=flate[3:7]"
   ]
  },
  {
   "cell_type": "code",
   "execution_count": 21,
   "id": "7b07a765-d1d5-4123-a968-6c8ad988db5a",
   "metadata": {},
   "outputs": [
    {
     "name": "stdout",
     "output_type": "stream",
     "text": [
      "[4 5 6 7]\n"
     ]
    }
   ],
   "source": [
    "print(b)"
   ]
  },
  {
   "cell_type": "code",
   "execution_count": 22,
   "id": "693befbe-1a48-46c1-a2b9-652483d32585",
   "metadata": {},
   "outputs": [],
   "source": [
    "b[0]=44444"
   ]
  },
  {
   "cell_type": "code",
   "execution_count": 23,
   "id": "4c3ca65b-c71a-4baf-bd2e-bef74c58cf7c",
   "metadata": {},
   "outputs": [
    {
     "name": "stdout",
     "output_type": "stream",
     "text": [
      "[44444     5     6     7]\n"
     ]
    }
   ],
   "source": [
    "print(b)"
   ]
  },
  {
   "cell_type": "code",
   "execution_count": 24,
   "id": "c7ae4abd-7036-4db8-bbc3-50e9f6cebbb9",
   "metadata": {},
   "outputs": [
    {
     "name": "stdout",
     "output_type": "stream",
     "text": [
      "[    1     2     3 44444     5     6     7     8     9    10    11    12]\n"
     ]
    }
   ],
   "source": [
    "print(flate)"
   ]
  },
  {
   "cell_type": "code",
   "execution_count": 25,
   "id": "9ebf4de9-7a98-45eb-81b3-c42d60be8e38",
   "metadata": {},
   "outputs": [],
   "source": [
    "# copy() mthode"
   ]
  },
  {
   "cell_type": "code",
   "execution_count": 27,
   "id": "68be5909-022b-42f4-81bf-89e0ad08bc4b",
   "metadata": {},
   "outputs": [],
   "source": [
    "b=flate[3:7].copy()"
   ]
  },
  {
   "cell_type": "code",
   "execution_count": 28,
   "id": "25ef7a4d-af2d-47c2-b8db-f315927778d8",
   "metadata": {},
   "outputs": [
    {
     "name": "stdout",
     "output_type": "stream",
     "text": [
      "[44444     5     6     7]\n"
     ]
    }
   ],
   "source": [
    "print(b)"
   ]
  },
  {
   "cell_type": "code",
   "execution_count": 29,
   "id": "fdf62c29-c1de-4fb4-b084-1880aee61d60",
   "metadata": {},
   "outputs": [
    {
     "name": "stdout",
     "output_type": "stream",
     "text": [
      "[    1     2     3 44444     5     6     7     8     9    10    11    12]\n"
     ]
    }
   ],
   "source": [
    "print(flate)"
   ]
  },
  {
   "cell_type": "code",
   "execution_count": 30,
   "id": "522b0501-8912-4b8e-b844-e8a52539f5f8",
   "metadata": {},
   "outputs": [],
   "source": [
    "# Fancy indexing and boolean masking"
   ]
  },
  {
   "cell_type": "code",
   "execution_count": 31,
   "id": "f05283f1-28b3-4ea2-8818-2b32a3501c50",
   "metadata": {},
   "outputs": [],
   "source": [
    "arr=np.array([1,54,23,53,2,3,34,5,6])"
   ]
  },
  {
   "cell_type": "code",
   "execution_count": 35,
   "id": "0fea7580-0951-4e58-a29e-4fc3ea40cd7d",
   "metadata": {},
   "outputs": [],
   "source": [
    "idx=[1,4,6]"
   ]
  },
  {
   "cell_type": "code",
   "execution_count": 36,
   "id": "95119832-a064-4b67-afbf-3d6dddbef25c",
   "metadata": {},
   "outputs": [
    {
     "name": "stdout",
     "output_type": "stream",
     "text": [
      "[54  2 34]\n"
     ]
    }
   ],
   "source": [
    "print(arr[idx])"
   ]
  },
  {
   "cell_type": "code",
   "execution_count": 42,
   "id": "fb14b5f4-8b7e-464b-8051-8deb2bc01672",
   "metadata": {},
   "outputs": [
    {
     "name": "stdout",
     "output_type": "stream",
     "text": [
      "[54 23 53 34  5  6]\n"
     ]
    }
   ],
   "source": [
    "idx1=arr>3\n",
    "print(arr[idx1])"
   ]
  },
  {
   "cell_type": "code",
   "execution_count": 41,
   "id": "84b5ffa9-60b5-4f8b-b170-8f78997386d5",
   "metadata": {},
   "outputs": [
    {
     "data": {
      "text/plain": [
       "array([54, 23, 53, 34,  5,  6])"
      ]
     },
     "execution_count": 41,
     "metadata": {},
     "output_type": "execute_result"
    }
   ],
   "source": [
    "arr[arr>3]"
   ]
  },
  {
   "cell_type": "code",
   "execution_count": null,
   "id": "5e5e7ef9-cd16-4234-8540-8385ecc63eb9",
   "metadata": {},
   "outputs": [],
   "source": []
  }
 ],
 "metadata": {
  "kernelspec": {
   "display_name": "Python 3 (ipykernel)",
   "language": "python",
   "name": "python3"
  },
  "language_info": {
   "codemirror_mode": {
    "name": "ipython",
    "version": 3
   },
   "file_extension": ".py",
   "mimetype": "text/x-python",
   "name": "python",
   "nbconvert_exporter": "python",
   "pygments_lexer": "ipython3",
   "version": "3.13.5"
  }
 },
 "nbformat": 4,
 "nbformat_minor": 5
}

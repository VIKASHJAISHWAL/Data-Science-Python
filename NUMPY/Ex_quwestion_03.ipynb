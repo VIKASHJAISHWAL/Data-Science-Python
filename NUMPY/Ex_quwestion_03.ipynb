{
 "cells": [
  {
   "cell_type": "code",
   "execution_count": 1,
   "id": "605f355e-dc4e-4ff0-bec4-fc2eadf50083",
   "metadata": {},
   "outputs": [],
   "source": [
    "import numpy as np\n"
   ]
  },
  {
   "cell_type": "code",
   "execution_count": 2,
   "id": "1bcad583-64ae-4f84-a2fb-040f091ef38b",
   "metadata": {},
   "outputs": [],
   "source": [
    "arr=np.arange(1_000_000)"
   ]
  },
  {
   "cell_type": "code",
   "execution_count": 3,
   "id": "12b9e5b4-cbcd-4876-bcd6-f110ef6cff9e",
   "metadata": {},
   "outputs": [],
   "source": [
    "size_in_bytes=arr.nbytes"
   ]
  },
  {
   "cell_type": "code",
   "execution_count": 4,
   "id": "591c89ea-6bbb-48ae-82c3-76c7f740c145",
   "metadata": {},
   "outputs": [
    {
     "name": "stdout",
     "output_type": "stream",
     "text": [
      "Memory size of array:8000000 bytes\n"
     ]
    }
   ],
   "source": [
    "print(f\"Memory size of array:{size_in_bytes} bytes\")"
   ]
  },
  {
   "cell_type": "code",
   "execution_count": null,
   "id": "1e360741-ba0b-4510-a3cd-0dd2c4878123",
   "metadata": {},
   "outputs": [],
   "source": [
    "print(f\"Memory size in MB:{size_in_bytes/(1024*1024):.2f}MB\")"
   ]
  },
  {
   "cell_type": "code",
   "execution_count": null,
   "id": "e9efebb8-15ab-4003-9fa8-197b265cfa31",
   "metadata": {},
   "outputs": [],
   "source": []
  }
 ],
 "metadata": {
  "kernelspec": {
   "display_name": "Python 3 (ipykernel)",
   "language": "python",
   "name": "python3"
  },
  "language_info": {
   "codemirror_mode": {
    "name": "ipython",
    "version": 3
   },
   "file_extension": ".py",
   "mimetype": "text/x-python",
   "name": "python",
   "nbconvert_exporter": "python",
   "pygments_lexer": "ipython3",
   "version": "3.13.5"
  }
 },
 "nbformat": 4,
 "nbformat_minor": 5
}

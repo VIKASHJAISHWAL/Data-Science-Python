{
 "cells": [
  {
   "cell_type": "code",
   "execution_count": 1,
   "id": "a4607dbf-cdbf-4652-b6d3-a8b71c67e1e4",
   "metadata": {},
   "outputs": [],
   "source": [
    "import numpy as np"
   ]
  },
  {
   "cell_type": "code",
   "execution_count": 2,
   "id": "5fd021a7-5435-4eea-bbfa-ffb9537af615",
   "metadata": {},
   "outputs": [],
   "source": [
    "arr = np.array([1,2,3,4,5,6])"
   ]
  },
  {
   "cell_type": "code",
   "execution_count": 3,
   "id": "dd242cb3-54d2-4326-8637-e0d147a07910",
   "metadata": {},
   "outputs": [
    {
     "data": {
      "text/plain": [
       "array([1, 2, 3, 4, 5, 6])"
      ]
     },
     "execution_count": 3,
     "metadata": {},
     "output_type": "execute_result"
    }
   ],
   "source": [
    "arr"
   ]
  },
  {
   "cell_type": "code",
   "execution_count": 4,
   "id": "e4023d94-0927-45cf-89d6-e2537839d0f8",
   "metadata": {},
   "outputs": [],
   "source": [
    "#1-D ARRAY"
   ]
  },
  {
   "cell_type": "code",
   "execution_count": 5,
   "id": "9b7bc3eb-42a5-41c6-8c5d-b5d545d2fc4b",
   "metadata": {},
   "outputs": [],
   "source": [
    "arr1=np.array([10,20,30,40,50,60])"
   ]
  },
  {
   "cell_type": "code",
   "execution_count": 6,
   "id": "f535956b-7ba2-491e-b227-ea78b2847513",
   "metadata": {},
   "outputs": [
    {
     "data": {
      "text/plain": [
       "array([10, 20, 30, 40, 50, 60])"
      ]
     },
     "execution_count": 6,
     "metadata": {},
     "output_type": "execute_result"
    }
   ],
   "source": [
    "arr1"
   ]
  },
  {
   "cell_type": "code",
   "execution_count": 7,
   "id": "67ead93a-b55e-4ba8-81c2-404054f62924",
   "metadata": {},
   "outputs": [],
   "source": [
    "#2-D ARRAY"
   ]
  },
  {
   "cell_type": "code",
   "execution_count": 8,
   "id": "64a5e707-f478-456c-acb1-7bef1fb48493",
   "metadata": {},
   "outputs": [],
   "source": [
    "arr2=np.array([[1,2,3,4],[5,6,7,8]])"
   ]
  },
  {
   "cell_type": "code",
   "execution_count": 9,
   "id": "a5342a4e-fbd3-4a47-b496-ad63cf8a01b4",
   "metadata": {},
   "outputs": [
    {
     "data": {
      "text/plain": [
       "array([[1, 2, 3, 4],\n",
       "       [5, 6, 7, 8]])"
      ]
     },
     "execution_count": 9,
     "metadata": {},
     "output_type": "execute_result"
    }
   ],
   "source": [
    "arr2"
   ]
  },
  {
   "cell_type": "code",
   "execution_count": 15,
   "id": "7e94e236-050d-42bf-ab0b-41797344b105",
   "metadata": {},
   "outputs": [],
   "source": [
    "arr3=np.array([[1,2,3,4],[5,6,7,8]])"
   ]
  },
  {
   "cell_type": "code",
   "execution_count": 16,
   "id": "b1643626-2eea-4a36-ba75-940bef02654d",
   "metadata": {},
   "outputs": [
    {
     "data": {
      "text/plain": [
       "array([[1, 2, 3, 4],\n",
       "       [5, 6, 7, 8]])"
      ]
     },
     "execution_count": 16,
     "metadata": {},
     "output_type": "execute_result"
    }
   ],
   "source": [
    "arr3"
   ]
  },
  {
   "cell_type": "code",
   "execution_count": 17,
   "id": "6b2e6344-5aa9-4525-b683-ca31b9c18dc5",
   "metadata": {},
   "outputs": [],
   "source": [
    "# Creating array from scratch"
   ]
  },
  {
   "cell_type": "code",
   "execution_count": 18,
   "id": "7fa4a89a-e455-42e8-91e4-f0eeb26426f8",
   "metadata": {},
   "outputs": [
    {
     "data": {
      "text/plain": [
       "array([[0., 0., 0., 0.],\n",
       "       [0., 0., 0., 0.],\n",
       "       [0., 0., 0., 0.],\n",
       "       [0., 0., 0., 0.]])"
      ]
     },
     "execution_count": 18,
     "metadata": {},
     "output_type": "execute_result"
    }
   ],
   "source": [
    "np.zeros((4,4))"
   ]
  },
  {
   "cell_type": "code",
   "execution_count": 19,
   "id": "d5f6ccf5-5ad7-4700-a3b4-8d41044543e2",
   "metadata": {},
   "outputs": [
    {
     "data": {
      "text/plain": [
       "array([[0., 0., 0., 0.],\n",
       "       [0., 0., 0., 0.],\n",
       "       [0., 0., 0., 0.]])"
      ]
     },
     "execution_count": 19,
     "metadata": {},
     "output_type": "execute_result"
    }
   ],
   "source": [
    "np.zeros((3,4))"
   ]
  },
  {
   "cell_type": "code",
   "execution_count": 20,
   "id": "0d99aef6-ba3e-4d74-a407-4904157dadc0",
   "metadata": {},
   "outputs": [
    {
     "data": {
      "text/plain": [
       "array([[1., 1., 1., 1.],\n",
       "       [1., 1., 1., 1.],\n",
       "       [1., 1., 1., 1.],\n",
       "       [1., 1., 1., 1.],\n",
       "       [1., 1., 1., 1.]])"
      ]
     },
     "execution_count": 20,
     "metadata": {},
     "output_type": "execute_result"
    }
   ],
   "source": [
    "np.ones((5,4))"
   ]
  },
  {
   "cell_type": "code",
   "execution_count": 21,
   "id": "3bd14854-8dcb-4498-851d-0e1d73044387",
   "metadata": {},
   "outputs": [
    {
     "data": {
      "text/plain": [
       "array([[6, 6, 6, 6, 6],\n",
       "       [6, 6, 6, 6, 6]])"
      ]
     },
     "execution_count": 21,
     "metadata": {},
     "output_type": "execute_result"
    }
   ],
   "source": [
    "np.full((2,5),6)"
   ]
  },
  {
   "cell_type": "code",
   "execution_count": 22,
   "id": "fd5a64f5-0305-4766-a70b-7862618197d8",
   "metadata": {},
   "outputs": [
    {
     "data": {
      "text/plain": [
       "array([[7, 7, 7, 7],\n",
       "       [7, 7, 7, 7],\n",
       "       [7, 7, 7, 7],\n",
       "       [7, 7, 7, 7]])"
      ]
     },
     "execution_count": 22,
     "metadata": {},
     "output_type": "execute_result"
    }
   ],
   "source": [
    "np.full((4,4),7)"
   ]
  },
  {
   "cell_type": "code",
   "execution_count": 23,
   "id": "6968b4f2-35d4-4994-bf75-2d0c275d1896",
   "metadata": {},
   "outputs": [],
   "source": [
    "# Identity matrix"
   ]
  },
  {
   "cell_type": "code",
   "execution_count": 25,
   "id": "9db5539b-be3d-479a-9e7e-73b4b80af0a3",
   "metadata": {},
   "outputs": [
    {
     "data": {
      "text/plain": [
       "array([[1., 0., 0.],\n",
       "       [0., 1., 0.],\n",
       "       [0., 0., 1.]])"
      ]
     },
     "execution_count": 25,
     "metadata": {},
     "output_type": "execute_result"
    }
   ],
   "source": [
    "np.eye(3)"
   ]
  },
  {
   "cell_type": "code",
   "execution_count": 26,
   "id": "a773f638-dbcb-4554-89d4-88a121fccb9d",
   "metadata": {},
   "outputs": [
    {
     "data": {
      "text/plain": [
       "array([[1., 0., 0., 0., 0.],\n",
       "       [0., 1., 0., 0., 0.],\n",
       "       [0., 0., 1., 0., 0.],\n",
       "       [0., 0., 0., 1., 0.],\n",
       "       [0., 0., 0., 0., 1.]])"
      ]
     },
     "execution_count": 26,
     "metadata": {},
     "output_type": "execute_result"
    }
   ],
   "source": [
    "np.eye(5)"
   ]
  },
  {
   "cell_type": "code",
   "execution_count": 27,
   "id": "8f0d392b-6170-48ee-a159-08f74538a841",
   "metadata": {},
   "outputs": [],
   "source": [
    "# Using arange methode"
   ]
  },
  {
   "cell_type": "code",
   "execution_count": 28,
   "id": "0e0974d5-57ef-4833-8adb-3d8891ba0c70",
   "metadata": {},
   "outputs": [
    {
     "data": {
      "text/plain": [
       "array([ 1, 10, 19, 28, 37, 46, 55, 64, 73, 82, 91])"
      ]
     },
     "execution_count": 28,
     "metadata": {},
     "output_type": "execute_result"
    }
   ],
   "source": [
    "np.arange(1,100,9)"
   ]
  },
  {
   "cell_type": "code",
   "execution_count": 29,
   "id": "3bd37ceb-963e-457f-b13c-a526207c2486",
   "metadata": {},
   "outputs": [
    {
     "data": {
      "text/plain": [
       "array([ 1,  3,  5,  7,  9, 11, 13, 15, 17, 19, 21, 23, 25, 27, 29, 31, 33,\n",
       "       35, 37, 39, 41, 43, 45, 47, 49, 51, 53, 55, 57, 59, 61, 63, 65, 67,\n",
       "       69, 71, 73, 75, 77, 79, 81, 83, 85, 87, 89, 91, 93, 95, 97, 99])"
      ]
     },
     "execution_count": 29,
     "metadata": {},
     "output_type": "execute_result"
    }
   ],
   "source": [
    "np.arange(1,100,2)"
   ]
  },
  {
   "cell_type": "code",
   "execution_count": 30,
   "id": "65ee7c2d-7118-4ec6-966f-84b11889c769",
   "metadata": {},
   "outputs": [],
   "source": [
    "# linspace method"
   ]
  },
  {
   "cell_type": "code",
   "execution_count": 31,
   "id": "7d2e9fd8-67ea-4c0c-8c3f-d4790c77f5da",
   "metadata": {},
   "outputs": [
    {
     "data": {
      "text/plain": [
       "array([  1.,  12.,  23.,  34.,  45.,  56.,  67.,  78.,  89., 100.])"
      ]
     },
     "execution_count": 31,
     "metadata": {},
     "output_type": "execute_result"
    }
   ],
   "source": [
    "np.linspace(1,100,10)"
   ]
  },
  {
   "cell_type": "code",
   "execution_count": 32,
   "id": "ab26563b-5fbe-4cd5-b28b-8a99e43cc383",
   "metadata": {},
   "outputs": [],
   "source": [
    "# Lists se array banana"
   ]
  },
  {
   "cell_type": "code",
   "execution_count": 33,
   "id": "636bef9e-5f1f-47a8-9481-af02d89d70dd",
   "metadata": {},
   "outputs": [],
   "source": [
    "arr=np.array([[1,2,3],[4,5,6],[7,8,9],[10,11,12],[13,14,15],[16,17,18]])"
   ]
  },
  {
   "cell_type": "code",
   "execution_count": 34,
   "id": "edda876f-052b-498c-9230-a1d560ba364b",
   "metadata": {},
   "outputs": [
    {
     "data": {
      "text/plain": [
       "array([[ 1,  2,  3],\n",
       "       [ 4,  5,  6],\n",
       "       [ 7,  8,  9],\n",
       "       [10, 11, 12],\n",
       "       [13, 14, 15],\n",
       "       [16, 17, 18]])"
      ]
     },
     "execution_count": 34,
     "metadata": {},
     "output_type": "execute_result"
    }
   ],
   "source": [
    "arr"
   ]
  },
  {
   "cell_type": "code",
   "execution_count": 35,
   "id": "92d707d0-e83e-4091-bf3f-b92c38c8b798",
   "metadata": {},
   "outputs": [],
   "source": [
    "# Check array properties\n",
    "# 1.Shape\n",
    "# 2.Size\n",
    "# 3.Dimensions\n",
    "# 4.Data type"
   ]
  },
  {
   "cell_type": "code",
   "execution_count": 36,
   "id": "34260f72-9555-4f1c-9c01-e3fa793d7783",
   "metadata": {},
   "outputs": [],
   "source": [
    "# 1.Shape"
   ]
  },
  {
   "cell_type": "code",
   "execution_count": 37,
   "id": "022323f8-0f5f-41e3-b3d0-219d566baaca",
   "metadata": {},
   "outputs": [],
   "source": [
    "arr=np.array([[1,2,3],[4,5,6],[7,8,9]])"
   ]
  },
  {
   "cell_type": "code",
   "execution_count": 38,
   "id": "1010e5bc-e61f-4111-8649-b9918c83481a",
   "metadata": {},
   "outputs": [
    {
     "data": {
      "text/plain": [
       "(3, 3)"
      ]
     },
     "execution_count": 38,
     "metadata": {},
     "output_type": "execute_result"
    }
   ],
   "source": [
    "arr.shape"
   ]
  },
  {
   "cell_type": "code",
   "execution_count": 39,
   "id": "3f978fdb-2393-40d0-8091-dfe204bd7232",
   "metadata": {},
   "outputs": [],
   "source": [
    "# 2.Size"
   ]
  },
  {
   "cell_type": "code",
   "execution_count": 40,
   "id": "b13eca4d-1108-47df-9642-b335dd47a39b",
   "metadata": {},
   "outputs": [
    {
     "data": {
      "text/plain": [
       "9"
      ]
     },
     "execution_count": 40,
     "metadata": {},
     "output_type": "execute_result"
    }
   ],
   "source": [
    "arr.size"
   ]
  },
  {
   "cell_type": "code",
   "execution_count": 41,
   "id": "1decdb56-2770-4f6a-83e9-9e9c336eaafe",
   "metadata": {},
   "outputs": [],
   "source": [
    "# 3.Dimensions"
   ]
  },
  {
   "cell_type": "code",
   "execution_count": 42,
   "id": "da0814d0-23dc-492b-aa1f-28906d01cfe9",
   "metadata": {},
   "outputs": [
    {
     "data": {
      "text/plain": [
       "2"
      ]
     },
     "execution_count": 42,
     "metadata": {},
     "output_type": "execute_result"
    }
   ],
   "source": [
    "arr.ndim"
   ]
  },
  {
   "cell_type": "code",
   "execution_count": 43,
   "id": "c5415a0b-95f6-4349-b408-cf6efc800799",
   "metadata": {},
   "outputs": [],
   "source": [
    "# 4.Data type"
   ]
  },
  {
   "cell_type": "code",
   "execution_count": 44,
   "id": "f23cd06d-8c3e-4b71-b6ac-948eca75bfdf",
   "metadata": {},
   "outputs": [
    {
     "data": {
      "text/plain": [
       "dtype('int64')"
      ]
     },
     "execution_count": 44,
     "metadata": {},
     "output_type": "execute_result"
    }
   ],
   "source": [
    "arr.dtype"
   ]
  },
  {
   "cell_type": "code",
   "execution_count": 45,
   "id": "4305c497-a0f1-40e0-9021-5cd5948f5d84",
   "metadata": {},
   "outputs": [],
   "source": [
    "# Changing data type"
   ]
  },
  {
   "cell_type": "code",
   "execution_count": 48,
   "id": "a599c1bf-699c-49a7-b4b5-1cb3a40932ee",
   "metadata": {},
   "outputs": [],
   "source": [
    "arr=np.array([[1,2,3],[4,5,6],[7,8,9]],dtype='int32')"
   ]
  },
  {
   "cell_type": "code",
   "execution_count": 49,
   "id": "9df0f405-8a96-435f-9110-d0851e8bbfec",
   "metadata": {},
   "outputs": [
    {
     "data": {
      "text/plain": [
       "dtype('int32')"
      ]
     },
     "execution_count": 49,
     "metadata": {},
     "output_type": "execute_result"
    }
   ],
   "source": [
    "arr.dtype"
   ]
  },
  {
   "cell_type": "code",
   "execution_count": 50,
   "id": "1713a6b3-987e-44ec-bf2d-ed3cd27d90fc",
   "metadata": {},
   "outputs": [
    {
     "data": {
      "text/plain": [
       "array([[1., 2., 3.],\n",
       "       [4., 5., 6.],\n",
       "       [7., 8., 9.]])"
      ]
     },
     "execution_count": 50,
     "metadata": {},
     "output_type": "execute_result"
    }
   ],
   "source": [
    "arr.astype('float64')"
   ]
  },
  {
   "cell_type": "code",
   "execution_count": 51,
   "id": "d86f3610-2a27-4652-9b91-328bc134b28b",
   "metadata": {},
   "outputs": [
    {
     "data": {
      "text/plain": [
       "dtype('int32')"
      ]
     },
     "execution_count": 51,
     "metadata": {},
     "output_type": "execute_result"
    }
   ],
   "source": [
    "arr.dtype\n"
   ]
  },
  {
   "cell_type": "code",
   "execution_count": null,
   "id": "b103ba6b-2920-4f30-8be4-3f82f7277d67",
   "metadata": {},
   "outputs": [],
   "source": []
  },
  {
   "cell_type": "code",
   "execution_count": 52,
   "id": "110bca4c-a004-4db1-b613-0a3597e45e40",
   "metadata": {},
   "outputs": [],
   "source": [
    "# Reshaping array"
   ]
  },
  {
   "cell_type": "code",
   "execution_count": 54,
   "id": "ce08dfe6-d9e7-466f-8f53-d2604c966c9f",
   "metadata": {},
   "outputs": [],
   "source": [
    "arr=np.array([[1,2,3],[4,5,6]])"
   ]
  },
  {
   "cell_type": "code",
   "execution_count": 55,
   "id": "b74414b2-c433-44dd-84ba-df93e7105b28",
   "metadata": {},
   "outputs": [
    {
     "name": "stdout",
     "output_type": "stream",
     "text": [
      "(2, 3)\n"
     ]
    }
   ],
   "source": [
    "print(arr.shape)"
   ]
  },
  {
   "cell_type": "code",
   "execution_count": 56,
   "id": "9112efdc-1b57-49ec-b111-5ee002b23eb7",
   "metadata": {},
   "outputs": [],
   "source": [
    "reshaped=arr.reshape(3,2)"
   ]
  },
  {
   "cell_type": "code",
   "execution_count": 57,
   "id": "4db88ee2-f244-4567-b094-65c6d859193a",
   "metadata": {},
   "outputs": [
    {
     "name": "stdout",
     "output_type": "stream",
     "text": [
      "[[1 2]\n",
      " [3 4]\n",
      " [5 6]]\n"
     ]
    }
   ],
   "source": [
    "print(reshaped)"
   ]
  },
  {
   "cell_type": "code",
   "execution_count": 59,
   "id": "f7bdf20a-e083-4c12-929a-ddd763c35b8e",
   "metadata": {},
   "outputs": [],
   "source": [
    "# Convert 2D->1D array"
   ]
  },
  {
   "cell_type": "code",
   "execution_count": 60,
   "id": "5511c4b5-d9af-4f0b-871f-2de9f4843c8c",
   "metadata": {},
   "outputs": [],
   "source": [
    "flattended=arr.flatten()"
   ]
  },
  {
   "cell_type": "code",
   "execution_count": 61,
   "id": "2c07a6cb-88a2-4e57-b1b6-a97dd473333d",
   "metadata": {},
   "outputs": [
    {
     "data": {
      "text/plain": [
       "array([[1, 2, 3],\n",
       "       [4, 5, 6]])"
      ]
     },
     "execution_count": 61,
     "metadata": {},
     "output_type": "execute_result"
    }
   ],
   "source": [
    "arr"
   ]
  },
  {
   "cell_type": "code",
   "execution_count": null,
   "id": "eb130725-9142-4e25-9062-3289d4ebe13d",
   "metadata": {},
   "outputs": [],
   "source": []
  }
 ],
 "metadata": {
  "kernelspec": {
   "display_name": "Python 3 (ipykernel)",
   "language": "python",
   "name": "python3"
  },
  "language_info": {
   "codemirror_mode": {
    "name": "ipython",
    "version": 3
   },
   "file_extension": ".py",
   "mimetype": "text/x-python",
   "name": "python",
   "nbconvert_exporter": "python",
   "pygments_lexer": "ipython3",
   "version": "3.13.5"
  }
 },
 "nbformat": 4,
 "nbformat_minor": 5
}

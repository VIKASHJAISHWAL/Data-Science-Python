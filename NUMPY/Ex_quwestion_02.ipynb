{
 "cells": [
  {
   "cell_type": "code",
   "execution_count": 2,
   "id": "2dafe160-520a-4f2f-a13e-d4d88bec7265",
   "metadata": {},
   "outputs": [],
   "source": [
    "import time\n",
    "import numpy as np\n",
    "#size of list/array\n",
    "n=10_000_000 # 10 milion elements\n"
   ]
  },
  {
   "cell_type": "code",
   "execution_count": 3,
   "id": "08209524-8381-4334-821d-6c119a0b4438",
   "metadata": {},
   "outputs": [],
   "source": [
    "#Creats two python lists"
   ]
  },
  {
   "cell_type": "code",
   "execution_count": 4,
   "id": "a90eea6b-cdcb-495b-a787-9918a5606047",
   "metadata": {},
   "outputs": [],
   "source": [
    "list1=list(range(n))\n",
    "list2=list(range(n))"
   ]
  },
  {
   "cell_type": "code",
   "execution_count": 5,
   "id": "02b405d4-647e-45e3-8a65-7526122546ac",
   "metadata": {},
   "outputs": [],
   "source": [
    "#Create two numpy arrays"
   ]
  },
  {
   "cell_type": "code",
   "execution_count": 7,
   "id": "d594dad9-1b37-4008-8930-81c00b44c13e",
   "metadata": {},
   "outputs": [],
   "source": [
    "arr1=np.arange(n)\n",
    "arr2=np.arange(n)"
   ]
  },
  {
   "cell_type": "code",
   "execution_count": 8,
   "id": "bdbf2e4c-3f07-4b47-bd59-1065485fdfd7",
   "metadata": {},
   "outputs": [],
   "source": [
    "#----Multiply  two python Lists---"
   ]
  },
  {
   "cell_type": "code",
   "execution_count": 10,
   "id": "99e11413-fd51-4bc7-a223-c7c02c5bc06c",
   "metadata": {},
   "outputs": [
    {
     "name": "stdout",
     "output_type": "stream",
     "text": [
      "Time taken by the python list: 0.9463145732879639 second\n"
     ]
    }
   ],
   "source": [
    "start=time.time()\n",
    "list_result=[x*y for x,y in zip(list1,list2)]\n",
    "end=time.time()\n",
    "print(\"Time taken by the python list:\",end-start,\"second\")\n"
   ]
  },
  {
   "cell_type": "code",
   "execution_count": 11,
   "id": "f67ed09d-3954-4737-927a-eeb4d8addb40",
   "metadata": {},
   "outputs": [],
   "source": [
    "#-----Multiply two python array---------"
   ]
  },
  {
   "cell_type": "code",
   "execution_count": 12,
   "id": "35fe55cd-b4db-448c-ae3e-ade9b3983616",
   "metadata": {},
   "outputs": [
    {
     "name": "stdout",
     "output_type": "stream",
     "text": [
      "Time taken by the python array: 0.03472471237182617 second\n"
     ]
    }
   ],
   "source": [
    "start=time.time()\n",
    "arr_result=arr1*arr2\n",
    "end=time.time()\n",
    "print(\"Time taken by the python array:\",end-start,\"second\")\n"
   ]
  },
  {
   "cell_type": "code",
   "execution_count": null,
   "id": "2ec6fbb4-9735-45e1-af51-b5334b7e8fd4",
   "metadata": {},
   "outputs": [],
   "source": []
  }
 ],
 "metadata": {
  "kernelspec": {
   "display_name": "Python 3 (ipykernel)",
   "language": "python",
   "name": "python3"
  },
  "language_info": {
   "codemirror_mode": {
    "name": "ipython",
    "version": 3
   },
   "file_extension": ".py",
   "mimetype": "text/x-python",
   "name": "python",
   "nbconvert_exporter": "python",
   "pygments_lexer": "ipython3",
   "version": "3.13.5"
  }
 },
 "nbformat": 4,
 "nbformat_minor": 5
}

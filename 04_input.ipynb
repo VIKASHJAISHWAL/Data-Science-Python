{
 "cells": [
  {
   "cell_type": "code",
   "execution_count": 1,
   "id": "e818de03-ce42-44cd-aae7-c19db5c494ad",
   "metadata": {},
   "outputs": [
    {
     "name": "stdin",
     "output_type": "stream",
     "text": [
      "Enter first number: 10\n"
     ]
    }
   ],
   "source": [
    "a=int(input(\"Enter first number:\"))"
   ]
  },
  {
   "cell_type": "code",
   "execution_count": 3,
   "id": "3d52d0c1-a38b-4c8b-b6d7-dba81f117441",
   "metadata": {},
   "outputs": [
    {
     "name": "stdin",
     "output_type": "stream",
     "text": [
      "Enter the second number: 20\n"
     ]
    }
   ],
   "source": [
    "b=int(input(\"Enter the second number:\"))"
   ]
  },
  {
   "cell_type": "code",
   "execution_count": 4,
   "id": "dc01af29-01c2-4712-a09c-cb9afedbebb4",
   "metadata": {},
   "outputs": [
    {
     "name": "stdout",
     "output_type": "stream",
     "text": [
      "30\n"
     ]
    }
   ],
   "source": [
    "print(a+b)"
   ]
  },
  {
   "cell_type": "code",
   "execution_count": null,
   "id": "99670b8a-c55a-498e-8609-c5a7ddb573eb",
   "metadata": {},
   "outputs": [],
   "source": []
  }
 ],
 "metadata": {
  "kernelspec": {
   "display_name": "Python 3 (ipykernel)",
   "language": "python",
   "name": "python3"
  },
  "language_info": {
   "codemirror_mode": {
    "name": "ipython",
    "version": 3
   },
   "file_extension": ".py",
   "mimetype": "text/x-python",
   "name": "python",
   "nbconvert_exporter": "python",
   "pygments_lexer": "ipython3",
   "version": "3.13.5"
  }
 },
 "nbformat": 4,
 "nbformat_minor": 5
}

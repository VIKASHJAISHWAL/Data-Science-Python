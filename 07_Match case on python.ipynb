{
 "cells": [
  {
   "cell_type": "code",
   "execution_count": 4,
   "id": "b5893135-423b-47d6-90d3-717664cf1c40",
   "metadata": {},
   "outputs": [
    {
     "name": "stdout",
     "output_type": "stream",
     "text": [
      "Write day into the form of{1,2,3,4,5,6,7}\n"
     ]
    },
    {
     "name": "stdin",
     "output_type": "stream",
     "text": [
      "Enter the day : 7\n"
     ]
    },
    {
     "name": "stdout",
     "output_type": "stream",
     "text": [
      "Sunday!\n"
     ]
    }
   ],
   "source": [
    "print(\"Write day into the form of{1,2,3,4,5,6,7}\")\n",
    "day=int(input(\"Enter the day :\"))\n",
    "match day :\n",
    "    case 1:\n",
    "        print(\"Monday!\")\n",
    "    case 2:\n",
    "        print(\"Tuesday!\")\n",
    "    case 3:\n",
    "        print(\"Wednesday!\")\n",
    "    case 4:\n",
    "        print(\"Thruesday!\")\n",
    "    case 5:\n",
    "        print(\"Friday!\")\n",
    "    case 6:\n",
    "        print(\"Satuerday!\")\n",
    "    case 7:\n",
    "        print(\"Sunday!\")"
   ]
  },
  {
   "cell_type": "code",
   "execution_count": 5,
   "id": "b703380d-f7ca-48bd-bdac-f804de625948",
   "metadata": {},
   "outputs": [
    {
     "name": "stdout",
     "output_type": "stream",
     "text": [
      "ok!\n",
      "Unkonwn status!\n"
     ]
    }
   ],
   "source": [
    "def status(code):\n",
    "    match code:\n",
    "        case 200:\n",
    "            return \"ok!\"\n",
    "        case 400:\n",
    "            return \"Bad request!\"\n",
    "        case 500:\n",
    "            return \"Not found!\"\n",
    "        case _:\n",
    "            return \"Unkonwn status!\"\n",
    "print(status(200))\n",
    "print(status(404))\n",
    "            \n",
    "    "
   ]
  },
  {
   "cell_type": "code",
   "execution_count": 7,
   "id": "ca14413d-087e-4691-93e7-c7165348596e",
   "metadata": {},
   "outputs": [],
   "source": [
    "# Using tuple\n"
   ]
  },
  {
   "cell_type": "code",
   "execution_count": 10,
   "id": "7dbcf4f0-306a-4a86-90bc-88dc2b3db337",
   "metadata": {},
   "outputs": [
    {
     "name": "stdout",
     "output_type": "stream",
     "text": [
      "point at (3,4)\n"
     ]
    }
   ],
   "source": [
    "point = (3,4)\n",
    "match point:\n",
    "    case (0,0):\n",
    "        print(\"Origin\")\n",
    "    case (x,0):\n",
    "        print(f\"x-Axis at{x}\")\n",
    "    case (0,y):\n",
    "        print(f\"y-Axis at{y}\")\n",
    "    case (x,y):\n",
    "        print(f\"point at ({x},{y})\")"
   ]
  },
  {
   "cell_type": "code",
   "execution_count": null,
   "id": "d81efac0-894c-413a-b577-1c642a75b341",
   "metadata": {},
   "outputs": [],
   "source": []
  }
 ],
 "metadata": {
  "kernelspec": {
   "display_name": "Python 3 (ipykernel)",
   "language": "python",
   "name": "python3"
  },
  "language_info": {
   "codemirror_mode": {
    "name": "ipython",
    "version": 3
   },
   "file_extension": ".py",
   "mimetype": "text/x-python",
   "name": "python",
   "nbconvert_exporter": "python",
   "pygments_lexer": "ipython3",
   "version": "3.13.5"
  }
 },
 "nbformat": 4,
 "nbformat_minor": 5
}

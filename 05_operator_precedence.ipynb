{
 "cells": [
  {
   "cell_type": "code",
   "execution_count": 1,
   "id": "7f696b66-4fb3-468d-9cad-77449d4c5d0f",
   "metadata": {},
   "outputs": [],
   "source": [
    "result=10+2*3"
   ]
  },
  {
   "cell_type": "code",
   "execution_count": 2,
   "id": "0d22e7e9-8a82-4eb6-b418-80600b5bca24",
   "metadata": {},
   "outputs": [
    {
     "name": "stdout",
     "output_type": "stream",
     "text": [
      "16\n"
     ]
    }
   ],
   "source": [
    "print(result)"
   ]
  },
  {
   "cell_type": "code",
   "execution_count": 3,
   "id": "38e04e7c-5640-4fed-a2ce-641d006cb512",
   "metadata": {},
   "outputs": [],
   "source": [
    "result=(10+2)*3"
   ]
  },
  {
   "cell_type": "code",
   "execution_count": 4,
   "id": "7e7f3882-ccb4-4c23-82b9-cf8b459a53b7",
   "metadata": {},
   "outputs": [
    {
     "name": "stdout",
     "output_type": "stream",
     "text": [
      "36\n"
     ]
    }
   ],
   "source": [
    "print(result)"
   ]
  },
  {
   "cell_type": "code",
   "execution_count": 5,
   "id": "2e956d07-d127-40b0-b4da-9e8055998cb1",
   "metadata": {},
   "outputs": [],
   "source": [
    "result=2**3**2"
   ]
  },
  {
   "cell_type": "code",
   "execution_count": 6,
   "id": "e6bd2c53-ba03-45b5-845f-c9ef86bc68c1",
   "metadata": {},
   "outputs": [
    {
     "name": "stdout",
     "output_type": "stream",
     "text": [
      "512\n"
     ]
    }
   ],
   "source": [
    "print(result)"
   ]
  },
  {
   "cell_type": "code",
   "execution_count": null,
   "id": "ff006a79-4059-41c0-a95c-4938a2f5883a",
   "metadata": {},
   "outputs": [],
   "source": []
  }
 ],
 "metadata": {
  "kernelspec": {
   "display_name": "Python 3 (ipykernel)",
   "language": "python",
   "name": "python3"
  },
  "language_info": {
   "codemirror_mode": {
    "name": "ipython",
    "version": 3
   },
   "file_extension": ".py",
   "mimetype": "text/x-python",
   "name": "python",
   "nbconvert_exporter": "python",
   "pygments_lexer": "ipython3",
   "version": "3.13.5"
  }
 },
 "nbformat": 4,
 "nbformat_minor": 5
}
